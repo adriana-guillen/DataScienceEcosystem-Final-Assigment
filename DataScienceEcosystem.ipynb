{
 "cells": [
  {
   "cell_type": "markdown",
   "id": "0272a79a-622a-4fd2-886d-8fda98b5cf82",
   "metadata": {},
   "source": [
    "# Data Science Tools and Ecosystem\n"
   ]
  },
  {
   "cell_type": "markdown",
   "id": "717be3d0-8d10-489c-8a5a-eead934747c8",
   "metadata": {},
   "source": [
    "In this notebook, Data Science Tools and Ecosystem are listed and summarized, for a better comprehension, learning, and practice."
   ]
  },
  {
   "cell_type": "markdown",
   "id": "8bc1bb58-2229-4688-a002-ce41c7ccacc9",
   "metadata": {},
   "source": [
    "Objectives:\n",
    "- List popular languages for Data Science\n",
    "\n",
    "- List some of the most commonly used libraries in Data Science\n",
    "\n",
    "- Use and evaluate arithmetic expressions in Python\n",
    "\n",
    "- Use and evaluate tables, ordered and unordered lists in Python\n"
   ]
  },
  {
   "cell_type": "markdown",
   "id": "f60c9ad2-6532-4023-a0be-8bca8e77bb38",
   "metadata": {},
   "source": [
    "Some of the popular languages that Data Scientists use are:\n",
    "1. R\n",
    "2. Python\n",
    "3. C++\n",
    "4. Java\n"
   ]
  },
  {
   "cell_type": "markdown",
   "id": "48dfc2a1-bb3a-451a-b1ef-b70f58c878fd",
   "metadata": {},
   "source": [
    "Some of the commonly used libraries used by Data Scientists include:\n",
    "1. ggplot2\n",
    "2. matplotlib\n",
    "3. Seaborn\n",
    "4. Pandas\n",
    "5. NumPy"
   ]
  },
  {
   "cell_type": "markdown",
   "id": "8ca30a9a-bb46-4457-82a4-1dbe37e29d6f",
   "metadata": {},
   "source": [
    "| Data Science Tools |\n",
    "| -------------------|\n",
    "| ApacheSpark |\n",
    "| Hadoop |\n",
    "| Pandas |"
   ]
  },
  {
   "cell_type": "markdown",
   "id": "6ea44e7c-f952-4421-8916-7fcff5c55b22",
   "metadata": {},
   "source": [
    "### Below are a few examples of evaluating arithmetic expressions in Python"
   ]
  },
  {
   "cell_type": "code",
   "execution_count": 1,
   "id": "527745ab-60dd-4655-a4f1-1f56dc1ebe66",
   "metadata": {
    "tags": []
   },
   "outputs": [
    {
     "data": {
      "text/plain": [
       "17"
      ]
     },
     "execution_count": 1,
     "metadata": {},
     "output_type": "execute_result"
    }
   ],
   "source": [
    "(3*4)+5\n",
    "#This a simple arithmetic expression to mutiply then add integers"
   ]
  },
  {
   "cell_type": "code",
   "execution_count": 2,
   "id": "5775ca1f-7479-43d9-a10b-8740b5de2ba4",
   "metadata": {
    "tags": []
   },
   "outputs": [
    {
     "data": {
      "text/plain": [
       "3.3333333333333335"
      ]
     },
     "execution_count": 2,
     "metadata": {},
     "output_type": "execute_result"
    }
   ],
   "source": [
    "200/60\n",
    "#This will convert 200 minutes to hours by diving by 60"
   ]
  },
  {
   "cell_type": "markdown",
   "id": "ec5be871-0d85-4437-950f-470141ca58fd",
   "metadata": {},
   "source": [
    "## Author\n",
    "Adriana Guillén"
   ]
  },
  {
   "cell_type": "markdown",
   "id": "4a49765b-cf18-4b25-982a-76ecc183ee65",
   "metadata": {},
   "source": []
  }
 ],
 "metadata": {
  "kernelspec": {
   "display_name": "Python",
   "language": "python",
   "name": "conda-env-python-py"
  },
  "language_info": {
   "codemirror_mode": {
    "name": "ipython",
    "version": 3
   },
   "file_extension": ".py",
   "mimetype": "text/x-python",
   "name": "python",
   "nbconvert_exporter": "python",
   "pygments_lexer": "ipython3",
   "version": "3.7.12"
  }
 },
 "nbformat": 4,
 "nbformat_minor": 5
}
